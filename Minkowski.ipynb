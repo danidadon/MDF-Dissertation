{
 "cells": [
  {
   "cell_type": "code",
   "execution_count": 12,
   "id": "ba593c93",
   "metadata": {},
   "outputs": [
    {
     "data": {
      "text/html": [
       "<div>\n",
       "<style scoped>\n",
       "    .dataframe tbody tr th:only-of-type {\n",
       "        vertical-align: middle;\n",
       "    }\n",
       "\n",
       "    .dataframe tbody tr th {\n",
       "        vertical-align: top;\n",
       "    }\n",
       "\n",
       "    .dataframe thead th {\n",
       "        text-align: right;\n",
       "    }\n",
       "</style>\n",
       "<table border=\"1\" class=\"dataframe\">\n",
       "  <thead>\n",
       "    <tr style=\"text-align: right;\">\n",
       "      <th></th>\n",
       "      <th>value_0</th>\n",
       "      <th>value_1</th>\n",
       "      <th>value_2</th>\n",
       "      <th>value_3</th>\n",
       "      <th>value_4</th>\n",
       "    </tr>\n",
       "  </thead>\n",
       "  <tbody>\n",
       "    <tr>\n",
       "      <th>0</th>\n",
       "      <td>1607611017</td>\n",
       "      <td>32.73566</td>\n",
       "      <td>-117.19790</td>\n",
       "      <td>5</td>\n",
       "      <td>0.000000</td>\n",
       "    </tr>\n",
       "    <tr>\n",
       "      <th>1</th>\n",
       "      <td>1607611022</td>\n",
       "      <td>32.73670</td>\n",
       "      <td>-117.20169</td>\n",
       "      <td>8</td>\n",
       "      <td>74.575847</td>\n",
       "    </tr>\n",
       "    <tr>\n",
       "      <th>2</th>\n",
       "      <td>1607611026</td>\n",
       "      <td>32.73767</td>\n",
       "      <td>-117.20462</td>\n",
       "      <td>10</td>\n",
       "      <td>73.628164</td>\n",
       "    </tr>\n",
       "    <tr>\n",
       "      <th>3</th>\n",
       "      <td>1607611030</td>\n",
       "      <td>32.73884</td>\n",
       "      <td>-117.20779</td>\n",
       "      <td>12</td>\n",
       "      <td>80.945654</td>\n",
       "    </tr>\n",
       "    <tr>\n",
       "      <th>4</th>\n",
       "      <td>1607611035</td>\n",
       "      <td>32.74021</td>\n",
       "      <td>-117.21088</td>\n",
       "      <td>14</td>\n",
       "      <td>65.339972</td>\n",
       "    </tr>\n",
       "  </tbody>\n",
       "</table>\n",
       "</div>"
      ],
      "text/plain": [
       "      value_0   value_1    value_2  value_3    value_4\n",
       "0  1607611017  32.73566 -117.19790        5   0.000000\n",
       "1  1607611022  32.73670 -117.20169        8  74.575847\n",
       "2  1607611026  32.73767 -117.20462       10  73.628164\n",
       "3  1607611030  32.73884 -117.20779       12  80.945654\n",
       "4  1607611035  32.74021 -117.21088       14  65.339972"
      ]
     },
     "execution_count": 12,
     "metadata": {},
     "output_type": "execute_result"
    }
   ],
   "source": [
    "import pandas as pd\n",
    "df=pd.read_csv('flight_trajectory2_0.05.csv')\n",
    "df2=df.iloc[:,0:5]\n",
    "label=df.iloc[:,5]\n",
    "df2.head()"
   ]
  },
  {
   "cell_type": "code",
   "execution_count": null,
   "id": "e901ba4a",
   "metadata": {},
   "outputs": [],
   "source": [
    "## SORTS CHANGE IN SIMILARITIES ##\n",
    "\n",
    "import math\n",
    "\n",
    "#df2 = df.iloc[:,0:8]\n",
    "\n",
    "distances = []\n",
    "first = []\n",
    "second = []\n",
    "\n",
    "for i in range (0,len(df2)-1):\n",
    "    x = df2.iloc[i,1]\n",
    "    #x = x.values\n",
    "    y = df2.iloc[i+1,1]\n",
    "    #y = y.values\n",
    "    dis = abs(x-y)\n",
    "    #dis = math.dist(x, y)\n",
    "    distances.append(dis)\n",
    "    first.append(i)\n",
    "    second.append(i+1)\n",
    "\n",
    "one = pd.DataFrame(distances, columns = ['distances'])\n",
    "two = pd.DataFrame(first, columns = ['first'])\n",
    "three = pd.DataFrame(second, columns = ['second'])\n",
    "\n",
    "dis = pd.concat([one, two, three], axis=1)\n",
    "dis_sort=dis.sort_values(by=['distances'])"
   ]
  },
  {
   "cell_type": "code",
   "execution_count": null,
   "id": "31aa03d9",
   "metadata": {},
   "outputs": [],
   "source": [
    "x = df2.iloc[0,0:2]\n",
    "x = x.values\n",
    "y = df2.iloc[1,0:2]\n",
    "y = y.values\n",
    "#dis = abs(x-y)\n",
    "dis = distance.minkowski(x,y,p=1.5)\n",
    "dis"
   ]
  },
  {
   "cell_type": "code",
   "execution_count": 13,
   "id": "0202fbb8",
   "metadata": {},
   "outputs": [],
   "source": [
    "from scipy.spatial import distance\n",
    "from numpy.linalg import inv\n",
    "import numpy as np\n",
    "\n",
    "import math\n",
    "\n",
    "#df2 = df.iloc[:,0:8]\n",
    "\n",
    "distances = []\n",
    "first = []\n",
    "second = []\n",
    "\n",
    "for i in range (0,len(df2)-1):\n",
    "    x = df2.iloc[i,1:5]\n",
    "    #x = x.values\n",
    "    y = df2.iloc[i+1,1:5]\n",
    "    #y = y.values\n",
    "    #dis = abs(x-y)\n",
    "    dis = distance.minkowski(x,y,2.5)\n",
    "    #covariance = np.cov(x, y)\n",
    "    #iv = inv(covariance)\n",
    "    #dis = distance.mahalanobis(x,y,iv)\n",
    "    distances.append(dis)\n",
    "    first.append(i)\n",
    "    second.append(i+1)\n",
    "\n",
    "one = pd.DataFrame(distances, columns = ['distances'])\n",
    "two = pd.DataFrame(first, columns = ['first'])\n",
    "three = pd.DataFrame(second, columns = ['second'])\n",
    "\n",
    "dis = pd.concat([one, two, three], axis=1)\n",
    "dis_sort=dis.sort_values(by=['distances'])"
   ]
  },
  {
   "cell_type": "code",
   "execution_count": 14,
   "id": "9b7e0319",
   "metadata": {},
   "outputs": [
    {
     "name": "stderr",
     "output_type": "stream",
     "text": [
      "C:\\Users\\mikol\\anaconda3\\lib\\site-packages\\pandas\\core\\indexes\\base.py:4616: FutureWarning: Using a non-tuple sequence for multidimensional indexing is deprecated; use `arr[tuple(seq)]` instead of `arr[seq]`. In the future this will be interpreted as an array index, `arr[np.array(seq)]`, which will result either in an error or a different result.\n",
      "  result = getitem(key)\n"
     ]
    }
   ],
   "source": [
    "CR = 0.05\n",
    "\n",
    "dis_sort1 = dis_sort.reset_index(drop=True)\n",
    "delete = math.ceil(len(dis_sort)*CR)\n",
    "m = len(dis_sort) - delete\n",
    "excluded = dis_sort1.iloc[m:len(dis_sort1),:]\n",
    "\n",
    "first = excluded['first'].tolist()\n",
    "second = excluded['second'].tolist()\n",
    "both = first + second\n",
    "df3 = df2.drop(df2.index[[both]])\n",
    "dfwOexcluded = df3.reset_index(drop=True)"
   ]
  },
  {
   "cell_type": "code",
   "execution_count": 15,
   "id": "ef7a860c",
   "metadata": {},
   "outputs": [],
   "source": [
    "label = label.index[label == 1].tolist()\n",
    "#label = label.tolist()"
   ]
  },
  {
   "cell_type": "code",
   "execution_count": 16,
   "id": "f817c5c8",
   "metadata": {},
   "outputs": [
    {
     "data": {
      "text/plain": [
       "5"
      ]
     },
     "execution_count": 16,
     "metadata": {},
     "output_type": "execute_result"
    }
   ],
   "source": [
    "res = sum(ele in both for ele in label)\n",
    "res"
   ]
  },
  {
   "cell_type": "code",
   "execution_count": 17,
   "id": "db49ac49",
   "metadata": {},
   "outputs": [
    {
     "data": {
      "text/plain": [
       "34"
      ]
     },
     "execution_count": 17,
     "metadata": {},
     "output_type": "execute_result"
    }
   ],
   "source": [
    "len(both)"
   ]
  },
  {
   "cell_type": "code",
   "execution_count": null,
   "id": "46c5ee9d",
   "metadata": {},
   "outputs": [],
   "source": []
  },
  {
   "cell_type": "code",
   "execution_count": null,
   "id": "6b2f9d89",
   "metadata": {
    "scrolled": false
   },
   "outputs": [],
   "source": [
    "pd.set_option(\"display.max_rows\", None, \"display.max_columns\", None)\n",
    "#dis_sort1"
   ]
  },
  {
   "cell_type": "code",
   "execution_count": 18,
   "id": "598e5a4d",
   "metadata": {
    "scrolled": true
   },
   "outputs": [
    {
     "data": {
      "text/html": [
       "<div>\n",
       "<style scoped>\n",
       "    .dataframe tbody tr th:only-of-type {\n",
       "        vertical-align: middle;\n",
       "    }\n",
       "\n",
       "    .dataframe tbody tr th {\n",
       "        vertical-align: top;\n",
       "    }\n",
       "\n",
       "    .dataframe thead th {\n",
       "        text-align: right;\n",
       "    }\n",
       "</style>\n",
       "<table border=\"1\" class=\"dataframe\">\n",
       "  <thead>\n",
       "    <tr style=\"text-align: right;\">\n",
       "      <th></th>\n",
       "      <th>distances</th>\n",
       "      <th>first</th>\n",
       "      <th>second</th>\n",
       "    </tr>\n",
       "  </thead>\n",
       "  <tbody>\n",
       "    <tr>\n",
       "      <th>318</th>\n",
       "      <td>48.341120</td>\n",
       "      <td>137</td>\n",
       "      <td>138</td>\n",
       "    </tr>\n",
       "    <tr>\n",
       "      <th>319</th>\n",
       "      <td>48.511915</td>\n",
       "      <td>186</td>\n",
       "      <td>187</td>\n",
       "    </tr>\n",
       "    <tr>\n",
       "      <th>320</th>\n",
       "      <td>49.084274</td>\n",
       "      <td>264</td>\n",
       "      <td>265</td>\n",
       "    </tr>\n",
       "    <tr>\n",
       "      <th>321</th>\n",
       "      <td>49.232875</td>\n",
       "      <td>151</td>\n",
       "      <td>152</td>\n",
       "    </tr>\n",
       "    <tr>\n",
       "      <th>322</th>\n",
       "      <td>49.327063</td>\n",
       "      <td>192</td>\n",
       "      <td>193</td>\n",
       "    </tr>\n",
       "  </tbody>\n",
       "</table>\n",
       "</div>"
      ],
      "text/plain": [
       "     distances  first  second\n",
       "318  48.341120    137     138\n",
       "319  48.511915    186     187\n",
       "320  49.084274    264     265\n",
       "321  49.232875    151     152\n",
       "322  49.327063    192     193"
      ]
     },
     "execution_count": 18,
     "metadata": {},
     "output_type": "execute_result"
    }
   ],
   "source": [
    "seen = dis_sort1.iloc[0:len(dis_sort1)-delete,:]\n",
    "q = seen['distances'].quantile(0.99)\n",
    "possible_points=seen['distances']>=q\n",
    "see = seen[possible_points]"
   ]
  },
  {
   "cell_type": "code",
   "execution_count": 21,
   "id": "fec63759",
   "metadata": {},
   "outputs": [
    {
     "data": {
      "text/html": [
       "<div>\n",
       "<style scoped>\n",
       "    .dataframe tbody tr th:only-of-type {\n",
       "        vertical-align: middle;\n",
       "    }\n",
       "\n",
       "    .dataframe tbody tr th {\n",
       "        vertical-align: top;\n",
       "    }\n",
       "\n",
       "    .dataframe thead th {\n",
       "        text-align: right;\n",
       "    }\n",
       "</style>\n",
       "<table border=\"1\" class=\"dataframe\">\n",
       "  <thead>\n",
       "    <tr style=\"text-align: right;\">\n",
       "      <th></th>\n",
       "      <th>distances</th>\n",
       "      <th>first</th>\n",
       "      <th>second</th>\n",
       "    </tr>\n",
       "  </thead>\n",
       "  <tbody>\n",
       "    <tr>\n",
       "      <th>0</th>\n",
       "      <td>49.327063</td>\n",
       "      <td>192</td>\n",
       "      <td>193</td>\n",
       "    </tr>\n",
       "    <tr>\n",
       "      <th>1</th>\n",
       "      <td>49.232875</td>\n",
       "      <td>151</td>\n",
       "      <td>152</td>\n",
       "    </tr>\n",
       "    <tr>\n",
       "      <th>2</th>\n",
       "      <td>49.084274</td>\n",
       "      <td>264</td>\n",
       "      <td>265</td>\n",
       "    </tr>\n",
       "  </tbody>\n",
       "</table>\n",
       "</div>"
      ],
      "text/plain": [
       "   distances  first  second\n",
       "0  49.327063    192     193\n",
       "1  49.232875    151     152\n",
       "2  49.084274    264     265"
      ]
     },
     "execution_count": 21,
     "metadata": {},
     "output_type": "execute_result"
    }
   ],
   "source": [
    "#Outputs the chunks based on greatest change in data\n",
    "\n",
    "import numpy as np\n",
    "\n",
    "see = see.reindex(index=see.index[::-1])\n",
    "see = see.reset_index(drop=True)\n",
    "\n",
    "h = len(see)\n",
    "check= np.arange(0,len(see))\n",
    "check=check.tolist()\n",
    "idx = []\n",
    "\n",
    "\n",
    "for i in range(0,h):\n",
    "    if i not in idx:\n",
    "        k = see.iloc[i,1]\n",
    "        #top10 = see.iloc[i:m,1]>=k\n",
    "        ii = 0.1*len(seen)\n",
    "        top10 = see.iloc[i:len(see),1]#.between(871+ii, 871-ii)\n",
    "        top10 = pd.DataFrame(top10, columns=['first'])\n",
    "        top10 = top10[((top10 >= k-ii) & (top10 <= k+ii)).all(axis=1)]\n",
    "        idx3=list(top10.index.values)\n",
    "        idx3.remove(i)\n",
    "        idx.extend(idx3)\n",
    "        \n",
    "        #check = set(check) - set(idx3)\n",
    "\n",
    "p_points_idx = list(set(check) - set(idx))\n",
    "p_points = see.iloc[p_points_idx]\n",
    "p_points"
   ]
  },
  {
   "cell_type": "code",
   "execution_count": null,
   "id": "ae0f34ac",
   "metadata": {},
   "outputs": [],
   "source": [
    "group1 = m.iloc[0:26,:]\n",
    "group2 = m.iloc[26:453,:]\n",
    "group3 = m.iloc[453:872,:]\n",
    "group4 = m.iloc[872:1022,:]\n",
    "group5 = m.iloc[1022:1204,:]\n",
    "group6 = m.iloc[1204:1401,:]"
   ]
  },
  {
   "cell_type": "code",
   "execution_count": null,
   "id": "99278b4a",
   "metadata": {},
   "outputs": [],
   "source": []
  }
 ],
 "metadata": {
  "kernelspec": {
   "display_name": "Python 3 (ipykernel)",
   "language": "python",
   "name": "python3"
  },
  "language_info": {
   "codemirror_mode": {
    "name": "ipython",
    "version": 3
   },
   "file_extension": ".py",
   "mimetype": "text/x-python",
   "name": "python",
   "nbconvert_exporter": "python",
   "pygments_lexer": "ipython3",
   "version": "3.9.7"
  }
 },
 "nbformat": 4,
 "nbformat_minor": 5
}
